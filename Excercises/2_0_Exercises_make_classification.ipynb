{
  "nbformat": 4,
  "nbformat_minor": 0,
  "metadata": {
    "colab": {
      "name": "2.0 Exercises: make_classification.ipynb",
      "provenance": [],
      "collapsed_sections": []
    },
    "kernelspec": {
      "name": "python3",
      "display_name": "Python 3"
    },
    "language_info": {
      "name": "python"
    }
  },
  "cells": [
    {
      "cell_type": "markdown",
      "source": [
        "Exercise1: \n",
        "1. Make a classification dataset using make_classification with following conditions\n",
        "  - 500 samples\n",
        "  - 2 features (all informative)\n",
        "  - 2 classes\n",
        "  - 1 cluster per class\n",
        "  - Use random_state = 27\n",
        "\n",
        "\n",
        "2. Plot scatter plot of the classification data"
      ],
      "metadata": {
        "id": "eDS2jPMHlNao"
      }
    },
    {
      "cell_type": "code",
      "source": [
        ""
      ],
      "metadata": {
        "id": "1Q-sHGoN7BDR"
      },
      "execution_count": null,
      "outputs": []
    },
    {
      "cell_type": "markdown",
      "source": [
        "Exercise2: \n",
        "1. Make a classification dataset using make_classification with following conditions\n",
        "  - 200 samples\n",
        "  - 2 features (all informative)\n",
        "  - 2 classes\n",
        "  - 2 cluster per class\n",
        "  - Use random_state = 17\n",
        "\n",
        "\n",
        "2. Plot scatter plot of the classification data"
      ],
      "metadata": {
        "id": "Qn10sp0RmjXm"
      }
    },
    {
      "cell_type": "code",
      "source": [
        ""
      ],
      "metadata": {
        "id": "NRruTK4A7D67"
      },
      "execution_count": null,
      "outputs": []
    },
    {
      "cell_type": "markdown",
      "source": [
        "Exercise3: \n",
        "1. Make a classification dataset using make_classification with following conditions\n",
        "  - 250 samples\n",
        "  - 2 informative features\n",
        "  - 2 redundant features \n",
        "  - 4 classes\n",
        "  - 1 cluster per class\n",
        "  - Use random_state = 27\n",
        "\n",
        "2. Plot scatter plot of the classification data"
      ],
      "metadata": {
        "id": "9I6BpblZmjlP"
      }
    },
    {
      "cell_type": "code",
      "source": [
        ""
      ],
      "metadata": {
        "id": "qmsA6j1j7GTP"
      },
      "execution_count": null,
      "outputs": []
    },
    {
      "cell_type": "markdown",
      "source": [
        "Exercise4: Run the foloowing code:\n",
        "- \n",
        "X, y  = make_classification(n_samples=250, n_features = 4, n_informative = 2, n_redundant = 2, n_classes = 4, n_clusters_per_class = 4, random_state=27)\n",
        "- Note your observations and remedy"
      ],
      "metadata": {
        "id": "YeH20pMTmjtf"
      }
    },
    {
      "cell_type": "code",
      "source": [
        ""
      ],
      "metadata": {
        "id": "UQPlhpiX7JM3"
      },
      "execution_count": null,
      "outputs": []
    },
    {
      "cell_type": "markdown",
      "source": [
        "Exercise5: \n",
        "1. Create a multilabel classification dataset with 200 samples, 8 \n",
        "features, 7 labels and on an average 3 labels per example.\n",
        "\n",
        "  - 200 samples\n",
        "  - 8 features\n",
        "  - 7 labels\n",
        "  - Average 3 labels per example\n",
        "\n",
        "\n",
        "2. Find the shapes of the feature matrix and the label vector  \n"
      ],
      "metadata": {
        "id": "vKjNpzmymj52"
      }
    }
  ]
}