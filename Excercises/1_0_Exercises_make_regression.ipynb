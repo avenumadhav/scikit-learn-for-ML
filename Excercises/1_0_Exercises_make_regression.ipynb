{
  "nbformat": 4,
  "nbformat_minor": 0,
  "metadata": {
    "colab": {
      "name": "1.0 Exercises: make_regression.ipynb",
      "provenance": [],
      "collapsed_sections": []
    },
    "kernelspec": {
      "name": "python3",
      "display_name": "Python 3"
    },
    "language_info": {
      "name": "python"
    }
  },
  "cells": [
    {
      "cell_type": "markdown",
      "source": [
        "# Exercise 1:"
      ],
      "metadata": {
        "id": "lQvX9OBXlAJl"
      }
    },
    {
      "cell_type": "markdown",
      "source": [
        "##### Q. Make regression data with the following instructions:\n",
        "1. 100 samples and 2 features and assign to variables X and y\n",
        "\n",
        "2. 100 samples and 2 features with noise =  10 and assign to variables X_new and y_new\n",
        "\n",
        "3. Plot a scatter plot between X and y using matplotlib library\n",
        "\n",
        "4. Plot a scatter plot between X_new andy_new using matplotlib library\n",
        "\n",
        "5. What do you observe from plots from Q3 and Q4\n",
        "\n",
        "\n",
        "---\n",
        "\n"
      ],
      "metadata": {
        "id": "rljENOHMGjaL"
      }
    },
    {
      "cell_type": "markdown",
      "source": [
        "1. 100 samples and 2 features and assign to variables X and y\n",
        "\n",
        "\n",
        "\n",
        "---\n",
        "\n"
      ],
      "metadata": {
        "id": "sZHltWgQr-r_"
      }
    },
    {
      "cell_type": "code",
      "source": [
        ""
      ],
      "metadata": {
        "id": "rC6xhMVssBLY"
      },
      "execution_count": null,
      "outputs": []
    },
    {
      "cell_type": "markdown",
      "source": [
        "2. 100 samples and 2 features with noise =  10 and assign to variables X_new and y_new\n",
        "\n",
        "\n",
        "\n",
        "---\n",
        "\n"
      ],
      "metadata": {
        "id": "zwfipkuisBsR"
      }
    },
    {
      "cell_type": "code",
      "source": [
        ""
      ],
      "metadata": {
        "id": "MdVPiebWsDkO"
      },
      "execution_count": null,
      "outputs": []
    },
    {
      "cell_type": "markdown",
      "source": [
        "3. Plot a scatter plot between X and y using matplotlib library\n",
        "\n",
        "---\n",
        "\n"
      ],
      "metadata": {
        "id": "is4tYqJbsEAZ"
      }
    },
    {
      "cell_type": "code",
      "source": [
        ""
      ],
      "metadata": {
        "id": "tLm6h-u3sGV1"
      },
      "execution_count": null,
      "outputs": []
    },
    {
      "cell_type": "markdown",
      "source": [
        "4. Plot a scatter plot between X_new andy_new using matplotlib library\n",
        "\n",
        "---\n",
        "\n"
      ],
      "metadata": {
        "id": "tZI34yjOsG7F"
      }
    },
    {
      "cell_type": "code",
      "source": [
        ""
      ],
      "metadata": {
        "id": "HVCeVrj7sJZZ"
      },
      "execution_count": null,
      "outputs": []
    },
    {
      "cell_type": "markdown",
      "source": [
        "\n",
        "5. What do you observe from plots from Q3 and Q4\n",
        "\n",
        "---\n",
        "\n"
      ],
      "metadata": {
        "id": "Y6WCiLSYsJ9w"
      }
    },
    {
      "cell_type": "code",
      "source": [
        ""
      ],
      "metadata": {
        "id": "uKrXCNF6sKks"
      },
      "execution_count": null,
      "outputs": []
    },
    {
      "cell_type": "markdown",
      "source": [
        "# Exercise 2:"
      ],
      "metadata": {
        "id": "eBfIQme_qZhD"
      }
    },
    {
      "cell_type": "markdown",
      "source": [
        "##### Q. Make regression data with the following instructions:\n",
        "1. 100 samples with 4 features and 3 targets and assign to variables X and y\n",
        "\n",
        "2. 100 samples with 4 features and 3 targets and assign to variables X_new and y_new\n",
        "\n",
        "3. Plot a scatter plot between X and y using matplotlib library\n",
        "\n",
        "4. Plot a scatter plot between X_new andy_new using matplotlib library\n",
        "\n",
        "5. Create a data frame obtained from Q1 with X and y values as columns and assign it to variable df1\n",
        "\n",
        "6. Create a data frame obtained from Q2 with X_new and y_new values as columns and assign it to variable df2\n",
        "\n",
        "7. Findout the shape of df1 and df2\n",
        "\n",
        "\n",
        "---\n",
        "\n"
      ],
      "metadata": {
        "id": "G8tLW2xiqZhD"
      }
    },
    {
      "cell_type": "markdown",
      "source": [
        "1. 100 samples with 4 features and 3 targets and assign to variables X and y\n",
        "\n",
        "\n",
        "---\n",
        "\n"
      ],
      "metadata": {
        "id": "S_CrzUPGsWdD"
      }
    },
    {
      "cell_type": "code",
      "source": [
        ""
      ],
      "metadata": {
        "id": "8Dx9umH9synJ"
      },
      "execution_count": null,
      "outputs": []
    },
    {
      "cell_type": "markdown",
      "source": [
        "2. 100 samples with 4 features and 3 targets and assign to variables X_new and y_new\n",
        "\n",
        "\n",
        "---\n",
        "\n"
      ],
      "metadata": {
        "id": "dmfPpIBTsXXE"
      }
    },
    {
      "cell_type": "code",
      "source": [
        ""
      ],
      "metadata": {
        "id": "vmwl84UzszSd"
      },
      "execution_count": null,
      "outputs": []
    },
    {
      "cell_type": "markdown",
      "source": [
        "3. Plot a scatter plot between X and y using matplotlib library\n",
        "\n",
        "\n",
        "\n",
        "---\n",
        "\n"
      ],
      "metadata": {
        "id": "NDSeIc0xsc_l"
      }
    },
    {
      "cell_type": "code",
      "source": [
        ""
      ],
      "metadata": {
        "id": "a7GWfeLhsz59"
      },
      "execution_count": null,
      "outputs": []
    },
    {
      "cell_type": "markdown",
      "source": [
        "4. Plot a scatter plot between X_new andy_new using matplotlib library\n",
        "\n",
        "\n",
        "\n",
        "---\n",
        "\n",
        "\n"
      ],
      "metadata": {
        "id": "fxF96iUesiTR"
      }
    },
    {
      "cell_type": "code",
      "source": [
        ""
      ],
      "metadata": {
        "id": "vqmieS0as1Od"
      },
      "execution_count": null,
      "outputs": []
    },
    {
      "cell_type": "markdown",
      "source": [
        "5. Create a data frame obtained from Q1 with X and y values as columns and assign it to variable df1\n",
        "\n",
        "\n",
        "\n",
        "---\n",
        "\n"
      ],
      "metadata": {
        "id": "gDyq2jACsnG2"
      }
    },
    {
      "cell_type": "code",
      "source": [
        ""
      ],
      "metadata": {
        "id": "vgCwgX7is1xz"
      },
      "execution_count": null,
      "outputs": []
    },
    {
      "cell_type": "markdown",
      "source": [
        "6. Create a data frame obtained from Q2 with X_new and y_new values as columns and assign it to variable df2\n",
        "\n",
        "\n",
        "\n",
        "---\n",
        "\n"
      ],
      "metadata": {
        "id": "NH3--AzBsoeH"
      }
    },
    {
      "cell_type": "code",
      "source": [
        ""
      ],
      "metadata": {
        "id": "XVJ45wpks2U6"
      },
      "execution_count": null,
      "outputs": []
    },
    {
      "cell_type": "markdown",
      "source": [
        "7. Findout the shape of df1 and df2\n",
        "\n",
        "---\n",
        "\n"
      ],
      "metadata": {
        "id": "xlsmZSvMsqU8"
      }
    },
    {
      "cell_type": "code",
      "source": [
        ""
      ],
      "metadata": {
        "id": "o5XFlKtDrj7U"
      },
      "execution_count": null,
      "outputs": []
    }
  ]
}